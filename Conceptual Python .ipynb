{
 "cells": [
  {
   "cell_type": "code",
   "execution_count": 1,
   "id": "9a852dfd-9818-4a1e-8487-a0a17de64065",
   "metadata": {},
   "outputs": [
    {
     "name": "stdout",
     "output_type": "stream",
     "text": [
      "Hello World\n"
     ]
    }
   ],
   "source": [
    "\"\"\"In Python, 0 and -0 are considered equal. This might seem counterintuitive, but it's due to the way floating-point numbers are represented in computer memory. Internally, Python uses a format called IEEE 754 floating-point representation, which treats positive and negative zero as equal.\n",
    "\n",
    "The reason for this behavior lies in how floating-point numbers are represented in binary. Essentially, there are different bit patterns to represent positive and negative zero, but they are considered equal when compared.\n",
    "\n",
    "So, when you compare 0 and -0, Python treats them as equal, and hence the condition 0 == -0 evaluates to True, resulting in the output \"Hello World\".\"\"\"\n",
    "\n",
    "\n",
    "if 0 ==0 :\n",
    "    print(\"Hello World\")\n",
    "\n",
    "else:\n",
    "    print(\"Bye\")\n",
    "\n",
    "\n"
   ]
  },
  {
   "cell_type": "markdown",
   "id": "09699025-8f98-4286-81d4-7c33ea103f40",
   "metadata": {},
   "source": [
    "# Cache In Python\n",
    "\n",
    "- @cache Aims to make your function faster by eliminating repeated computation..\n",
    "\n",
    "-  After adding @cache , each function call will only be computed ONCE.\n",
    "-  fib(6) will computed once ....\n",
    "-  fib(5) will computed once..\n",
    "-  fib(4) will computed once ...\n",
    "-  fib(3) will computed once ..\n",
    "-  fib(2) will computed once ...\n",
    "-  fib(1) will computed once ..\n",
    "\n",
    "\n",
    "#### For Instance computing , fib(3) once the value is stored in some dictionary somewhere. And if we require another fib(3) again later on, we use the stored fib(3) value from just nowrather than computing it again . Which Saves us a massive amount of time !"
   ]
  },
  {
   "cell_type": "code",
   "execution_count": 13,
   "id": "ef8378f3-4b8a-4922-bc36-65a39e37e5c0",
   "metadata": {},
   "outputs": [
    {
     "name": "stdout",
     "output_type": "stream",
     "text": [
      "1\n"
     ]
    }
   ],
   "source": [
    "# Example :-\n",
    "\n",
    "from functools import cache\n",
    "@cache\n",
    "def fib(n):\n",
    "    if n == 1: return 0\n",
    "    if n == 2: return 1\n",
    "\n",
    "    return fib(n-1) + fib (n-2)\n",
    "\n",
    "print(fib(3))"
   ]
  },
  {
   "cell_type": "code",
   "execution_count": 12,
   "id": "638d6cf6-5a4c-4284-8799-ae997b605773",
   "metadata": {},
   "outputs": [
    {
     "name": "stdin",
     "output_type": "stream",
     "text": [
      "Enter a positive integer:  67\n"
     ]
    },
    {
     "name": "stdout",
     "output_type": "stream",
     "text": [
      "The 67th Fibonacci number is: 27777890035288\n"
     ]
    }
   ],
   "source": [
    "\n",
    "from functools import cache\n",
    "@cache\n",
    "def fib(n):\n",
    "    if n == 1: return 0\n",
    "    if n == 2: return 1\n",
    "    return fib(n-1) + fib(n-2)\n",
    "\n",
    "try:\n",
    "    num = int(input(\"Enter a positive integer: \"))\n",
    "    if num <= 0:\n",
    "        print(\"Please enter a positive integer greater than 0.\")\n",
    "    else:\n",
    "        print(f\"The {num}th Fibonacci number is: {fib(num)}\")\n",
    "except ValueError:\n",
    "    print(\"Please enter a valid integer.\")\n"
   ]
  },
  {
   "cell_type": "code",
   "execution_count": null,
   "id": "83148e4e-04f8-4b15-976e-2ac857f2ab9b",
   "metadata": {},
   "outputs": [],
   "source": []
  }
 ],
 "metadata": {
  "kernelspec": {
   "display_name": "Python 3 (ipykernel)",
   "language": "python",
   "name": "python3"
  },
  "language_info": {
   "codemirror_mode": {
    "name": "ipython",
    "version": 3
   },
   "file_extension": ".py",
   "mimetype": "text/x-python",
   "name": "python",
   "nbconvert_exporter": "python",
   "pygments_lexer": "ipython3",
   "version": "3.10.13"
  }
 },
 "nbformat": 4,
 "nbformat_minor": 5
}
